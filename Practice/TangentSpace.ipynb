{
 "cells": [
  {
   "cell_type": "markdown",
   "metadata": {},
   "source": []
  },
  {
   "cell_type": "code",
   "execution_count": 4,
   "metadata": {},
   "outputs": [],
   "source": [
    "# do all necessary imports for this chapter\n",
    "using LinearAlgebra\n",
    "using TensorOperations\n",
    "using TensorKit\n",
    "using KrylovKit\n",
    "include(\"../Haegeman/TutorialFunctions.jl\")\n",
    "using .TutorialFunctions"
   ]
  },
  {
   "cell_type": "code",
   "execution_count": 7,
   "metadata": {},
   "outputs": [
    {
     "name": "stderr",
     "output_type": "stream",
     "text": [
      "┌ Warning: scalartype(data) = ComplexF64 ⊈ ℝ)\n",
      "└ @ TensorKit /Users/zongyy/.julia/packages/TensorKit/dtQg2/src/tensors/tensor.jl:33\n"
     ]
    },
    {
     "data": {
      "text/plain": [
       "TensorMap((ℝ^2 ⊗ ℝ^2 ⊗ ℝ^2) ← ProductSpace{CartesianSpace, 0}()):\n",
       "[:, :, 1] =\n",
       "   0.5440460329958816 + 0.25586687982012857im  …  -0.577192437140643 + 1.615391437628268im\n",
       " -0.08024112708386247 + 0.25589304084630665im     0.5589615365688694 - 0.20801175813868553im\n",
       "\n",
       "[:, :, 2] =\n",
       " -0.5172847438228702 - 0.21596740163167064im  …  0.22659014071934103 + 0.8383082076522597im\n",
       " 0.22825011154492522 + 0.11804762573033435im     -0.4411487726962568 + 0.2297947053315487im\n"
      ]
     },
     "metadata": {},
     "output_type": "display_data"
    }
   ],
   "source": [
    "D = 2 \n",
    "d = 2\n",
    "Tensor(randn, ComplexF64, ℝ^D⊗ℝ^d⊗ℝ^D)"
   ]
  }
 ],
 "metadata": {
  "kernelspec": {
   "display_name": "Julia 1.9.4",
   "language": "julia",
   "name": "julia-1.9"
  },
  "language_info": {
   "file_extension": ".jl",
   "mimetype": "application/julia",
   "name": "julia",
   "version": "1.9.4"
  }
 },
 "nbformat": 4,
 "nbformat_minor": 2
}
