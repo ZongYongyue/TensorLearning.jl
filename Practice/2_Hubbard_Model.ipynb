{
 "cells": [
  {
   "cell_type": "markdown",
   "metadata": {},
   "source": [
    "# Hubbard Model "
   ]
  },
  {
   "cell_type": "code",
   "execution_count": 1,
   "metadata": {},
   "outputs": [],
   "source": [
    "using ITensors\n",
    "using ITensorMPS"
   ]
  },
  {
   "cell_type": "code",
   "execution_count": 17,
   "metadata": {},
   "outputs": [
    {
     "data": {
      "text/plain": [
       "5-element Vector{Index{Int64}}:\n",
       " (dim=4|id=434|\"Electron,Site,n=1\")\n",
       " (dim=4|id=574|\"Electron,Site,n=2\")\n",
       " (dim=4|id=827|\"Electron,Site,n=3\")\n",
       " (dim=4|id=716|\"Electron,Site,n=4\")\n",
       " (dim=4|id=298|\"Electron,Site,n=5\")"
      ]
     },
     "metadata": {},
     "output_type": "display_data"
    }
   ],
   "source": [
    "sites = siteinds(\"Electron\",5)"
   ]
  },
  {
   "cell_type": "code",
   "execution_count": 18,
   "metadata": {},
   "outputs": [
    {
     "data": {
      "text/plain": [
       "MPS\n",
       "[1] ((dim=4|id=434|\"Electron,Site,n=1\"), (dim=20|id=267|\"Link,l=1\"))\n",
       "[2] ((dim=20|id=267|\"Link,l=1\"), (dim=4|id=574|\"Electron,Site,n=2\"), (dim=20|id=496|\"Link,l=2\"))\n",
       "[3] ((dim=20|id=496|\"Link,l=2\"), (dim=4|id=827|\"Electron,Site,n=3\"), (dim=16|id=128|\"Link,l=3\"))\n",
       "[4] ((dim=16|id=128|\"Link,l=3\"), (dim=4|id=716|\"Electron,Site,n=4\"), (dim=4|id=870|\"Link,l=4\"))\n",
       "[5] ((dim=4|id=870|\"Link,l=4\"), (dim=4|id=298|\"Electron,Site,n=5\"))\n"
      ]
     },
     "metadata": {},
     "output_type": "display_data"
    }
   ],
   "source": [
    "random_mps(sites; linkdims=20)"
   ]
  },
  {
   "cell_type": "code",
   "execution_count": 19,
   "metadata": {},
   "outputs": [
    {
     "data": {
      "text/plain": [
       "ITensor ord=2 (dim=4|id=716|\"Electron,Site,n=4\")' (dim=4|id=716|\"Electron,Site,n=4\")\n",
       "NDTensors.Dense{Float64, Vector{Float64}}"
      ]
     },
     "metadata": {},
     "output_type": "display_data"
    }
   ],
   "source": [
    "Cup4 = op(\"Cup\",sites[4])"
   ]
  },
  {
   "cell_type": "code",
   "execution_count": 21,
   "metadata": {},
   "outputs": [
    {
     "data": {
      "text/plain": [
       "MPS\n",
       "[1] ((dim=4|id=434|\"Electron,Site,n=1\"), (dim=4|id=44|\"Link,l=1\"))\n",
       "[2] ((dim=4|id=574|\"Electron,Site,n=2\"), (dim=4|id=44|\"Link,l=1\"), (dim=16|id=232|\"Link,l=2\"))\n",
       "[3] ((dim=4|id=827|\"Electron,Site,n=3\"), (dim=16|id=232|\"Link,l=2\"), (dim=16|id=309|\"Link,l=3\"))\n",
       "[4] ((dim=4|id=716|\"Electron,Site,n=4\"), (dim=4|id=335|\"Link,l=4\"), (dim=16|id=309|\"Link,l=3\"))\n",
       "[5] ((dim=4|id=335|\"Link,l=4\"), (dim=4|id=298|\"Electron,Site,n=5\"))\n"
      ]
     },
     "metadata": {},
     "output_type": "display_data"
    }
   ],
   "source": [
    "apply(Cup4, random_mps(sites; linkdims=20))"
   ]
  }
 ],
 "metadata": {
  "kernelspec": {
   "display_name": "Julia 1.9.4",
   "language": "julia",
   "name": "julia-1.9"
  },
  "language_info": {
   "file_extension": ".jl",
   "mimetype": "application/julia",
   "name": "julia",
   "version": "1.9.4"
  }
 },
 "nbformat": 4,
 "nbformat_minor": 2
}
