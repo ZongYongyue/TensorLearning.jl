{
 "cells": [
  {
   "cell_type": "markdown",
   "metadata": {},
   "source": [
    "# Tangent-space methods for uniform matrix product states\n",
    "\n",
    "## 2. Matrix product states in the thermodynamic limit"
   ]
  },
  {
   "cell_type": "code",
   "execution_count": 51,
   "metadata": {},
   "outputs": [],
   "source": [
    "using ITensors, ITensorMPS\n",
    "D = 2\n",
    "d = 2\n",
    "mA = rand(D,d,D); mL = rand(D,D); mR = rand(D, D);\n",
    "i,j,k,l,m = Index(D),Index(D),Index(d),Index(D),Index(D)\n",
    "U,S,V = svd(ITensor(mA,i,k,l), (i, k))\n",
    "#A = ITensor(mA/norm(mA),i,k,l); AI = ITensor(conj(mA)/norm(conj(mA)),j,k,m); L = ITensor(mL,i,j); R = ITensor(mR,l,m);\n",
    "A = U; AI = conj(U); L = ITensor(mL,i,j); R = ITensor(mR,l,m);"
   ]
  },
  {
   "cell_type": "code",
   "execution_count": 59,
   "metadata": {},
   "outputs": [
    {
     "data": {
      "text/plain": [
       "ITensor ord=2 (dim=2|id=636) (dim=2|id=339)\n",
       "NDTensors.Dense{Float64, Vector{Float64}}"
      ]
     },
     "metadata": {},
     "output_type": "display_data"
    }
   ],
   "source": [
    "(AI*L*A)"
   ]
  },
  {
   "cell_type": "code",
   "execution_count": 60,
   "metadata": {},
   "outputs": [
    {
     "data": {
      "text/plain": [
       "ITensor ord=2 (dim=2|id=339) (dim=2|id=636)\n",
       "NDTensors.Dense{Float64, Vector{Float64}}"
      ]
     },
     "metadata": {},
     "output_type": "display_data"
    }
   ],
   "source": [
    "L"
   ]
  }
 ],
 "metadata": {
  "kernelspec": {
   "display_name": "Julia 1.9.4",
   "language": "julia",
   "name": "julia-1.9"
  },
  "language_info": {
   "file_extension": ".jl",
   "mimetype": "application/julia",
   "name": "julia",
   "version": "1.9.4"
  }
 },
 "nbformat": 4,
 "nbformat_minor": 2
}
